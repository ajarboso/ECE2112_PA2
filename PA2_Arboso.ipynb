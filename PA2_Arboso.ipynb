{
 "cells": [
  {
   "cell_type": "code",
   "execution_count": 105,
   "id": "a5beface-cbd1-48c4-bdd7-2e1a77401583",
   "metadata": {},
   "outputs": [
    {
     "name": "stdout",
     "output_type": "stream",
     "text": [
      "Random 5x5 ndarray:\n",
      " [[0.56057177 0.47605182 0.33665041 0.39695151 0.57680673]\n",
      " [0.51282501 0.11724067 0.49042328 0.14143757 0.86719809]\n",
      " [0.72932188 0.87013619 0.39081343 0.36850863 0.20229294]\n",
      " [0.20561544 0.80096492 0.04268025 0.43940503 0.98713299]\n",
      " [0.45313757 0.13154    0.05055266 0.01904859 0.94024907]]\n",
      "Mean: 0.4443022581788073\n",
      "Standard Deviation: 0.28843923378094133\n",
      "Normalized: \n",
      " [[ 0.4030988   0.11007367 -0.37322193 -0.16416196  0.45938437]\n",
      " [ 0.23756392 -1.13390119  0.15989856 -1.05001212  1.46615226]\n",
      " [ 0.98814444  1.47633847 -0.18544229 -0.26277155 -0.83903052]\n",
      " [-0.82751162  1.23652616 -1.39239729 -0.01697837  1.88195871]\n",
      " [ 0.03063145 -1.08432633 -1.36510418 -1.4743267   1.71941524]]\n"
     ]
    }
   ],
   "source": [
    "import numpy as np\n",
    "\n",
    "# Create a 5x5x array with random values\n",
    "X = np.random.random((5,5))\n",
    "#caluclates the mean of the x array\n",
    "mean = X.mean()\n",
    "#calculates the  standard deciation of the x array\n",
    "sd = X.std()\n",
    "# the given formula to normalized the array\n",
    "Z = (X-mean)/(sd)\n",
    "\n",
    "#displays, original array, meand,standard deviation and the normalized x array\n",
    "print(\"Random 5x5 ndarray:\\n\", X)\n",
    "print(\"Mean:\",mean)\n",
    "print(\"Standard Deviation:\",sd)\n",
    "\n",
    "print(\"Normalized: \\n\",Z)\n",
    "\n",
    "np.save(\"X_Normalized.npy\",Z)"
   ]
  },
  {
   "cell_type": "code",
   "execution_count": 109,
   "id": "28afe24e-e3d4-470f-8aeb-bc9a180b57b3",
   "metadata": {},
   "outputs": [
    {
     "name": "stdout",
     "output_type": "stream",
     "text": [
      "Orinigal Array\n",
      " [    0     1     4     9    16    25    36    49    64    81   100   121\n",
      "   144   169   196   225   256   289   324   361   400   441   484   529\n",
      "   576   625   676   729   784   841   900   961  1024  1089  1156  1225\n",
      "  1296  1369  1444  1521  1600  1681  1764  1849  1936  2025  2116  2209\n",
      "  2304  2401  2500  2601  2704  2809  2916  3025  3136  3249  3364  3481\n",
      "  3600  3721  3844  3969  4096  4225  4356  4489  4624  4761  4900  5041\n",
      "  5184  5329  5476  5625  5776  5929  6084  6241  6400  6561  6724  6889\n",
      "  7056  7225  7396  7569  7744  7921  8100  8281  8464  8649  8836  9025\n",
      "  9216  9409  9604  9801 10000]\n",
      "Elements that are divisible by 3\n",
      " [   0    9   36   81  144  225  324  441  576  729  900 1089 1296 1521\n",
      " 1764 2025 2304 2601 2916 3249 3600 3969 4356 4761 5184 5625 6084 6561\n",
      " 7056 7569 8100 8649 9216 9801]\n"
     ]
    }
   ],
   "source": [
    "import numpy as np\n",
    "#create an array of integers 1 to 100\n",
    "x = np.arange(0,101)\n",
    "\n",
    "#squares the first 100 positive array\n",
    "y=x*x\n",
    "\n",
    "#Boolean Indexing  to seleect elemnts that are only divisible by 3\n",
    "z = y[y%3==0]\n",
    "#prints the original squared arrays\n",
    "print(\"Orinigal Array\\n\",y)\n",
    "#prints the elemnt that are divisible by 3\n",
    "print(\"Elements that are divisible by 3\\n\",z)\n",
    "\n",
    "np.save(\"div_by_3.npy\",z)"
   ]
  },
  {
   "cell_type": "code",
   "execution_count": null,
   "id": "b9cbe1e7-972d-418b-8785-b7eccca29181",
   "metadata": {},
   "outputs": [],
   "source": []
  }
 ],
 "metadata": {
  "kernelspec": {
   "display_name": "Python 3 (ipykernel)",
   "language": "python",
   "name": "python3"
  },
  "language_info": {
   "codemirror_mode": {
    "name": "ipython",
    "version": 3
   },
   "file_extension": ".py",
   "mimetype": "text/x-python",
   "name": "python",
   "nbconvert_exporter": "python",
   "pygments_lexer": "ipython3",
   "version": "3.12.4"
  }
 },
 "nbformat": 4,
 "nbformat_minor": 5
}
